{
  "nbformat": 4,
  "nbformat_minor": 0,
  "metadata": {
    "colab": {
      "name": "siamese_network.ipynb",
      "version": "0.3.2",
      "provenance": [],
      "collapsed_sections": [],
      "include_colab_link": true
    },
    "kernelspec": {
      "name": "python3",
      "display_name": "Python 3"
    },
    "accelerator": "GPU"
  },
  "cells": [
    {
      "cell_type": "markdown",
      "metadata": {
        "id": "view-in-github",
        "colab_type": "text"
      },
      "source": [
        "<a href=\"https://colab.research.google.com/github/arnavvats/pytorch-cnns/blob/master/siamese_network.ipynb\" target=\"_parent\"><img src=\"https://colab.research.google.com/assets/colab-badge.svg\" alt=\"Open In Colab\"/></a>"
      ]
    },
    {
      "cell_type": "code",
      "metadata": {
        "id": "g_XuwLY7kHyy",
        "colab_type": "code",
        "colab": {
          "base_uri": "https://localhost:8080/",
          "height": 34
        },
        "outputId": "63a92ab3-cb10-439e-f094-091ad8813098"
      },
      "source": [
        "import os\n",
        "os.environ['KAGGLE_USERNAME'] = \"your-kaggle-username\"\n",
        "os.environ['KAGGLE_KEY'] = \"your-kaggle-key\"\n",
        "from google.colab import drive\n",
        "drive.mount('/drive', force_remount = True)"
      ],
      "execution_count": 41,
      "outputs": [
        {
          "output_type": "stream",
          "text": [
            "Mounted at /drive\n"
          ],
          "name": "stdout"
        }
      ]
    },
    {
      "cell_type": "code",
      "metadata": {
        "id": "cP7Lt5WYkTGF",
        "colab_type": "code",
        "colab": {}
      },
      "source": [
        "# !kaggle datasets download -d watesoyan/omniglot\n",
        "# !unzip -q omniglot.zip\n",
        "# !ls"
      ],
      "execution_count": 0,
      "outputs": []
    },
    {
      "cell_type": "code",
      "metadata": {
        "id": "eBtEBy2FkoWW",
        "colab_type": "code",
        "colab": {}
      },
      "source": [
        "import torch\n",
        "import torch.nn as nn\n",
        "import torch.nn.functional as F\n",
        "import torch.optim as optim\n",
        "from torch.optim.lr_scheduler import ReduceLROnPlateau\n",
        "import numpy as np\n",
        "import os\n",
        "import matplotlib.pyplot as plt\n",
        "from matplotlib.image import imread\n",
        "import random"
      ],
      "execution_count": 0,
      "outputs": []
    },
    {
      "cell_type": "code",
      "metadata": {
        "id": "rcsxrp1DksFY",
        "colab_type": "code",
        "outputId": "75e473bc-0051-4cca-ae67-9cc42fa60ec1",
        "colab": {
          "base_uri": "https://localhost:8080/",
          "height": 34
        }
      },
      "source": [
        "drive_dir = './drive/My Drive'\n",
        "train_im_dir = './images_background'\n",
        "test_im_dir = './images_evaluation'\n",
        "train_categories = [[os.path.join(train_im_dir,i,j,k) for k in os.listdir(os.path.join(train_im_dir, i ,j))] \n",
        "                    for i in os.listdir(train_im_dir)\n",
        "                    for j in os.listdir(os.path.join(train_im_dir, i))]\n",
        "test_categories = [[os.path.join(test_im_dir,i,j,k) for k in os.listdir(os.path.join(test_im_dir, i ,j))] \n",
        "                    for i in os.listdir(test_im_dir)\n",
        "                    for j in os.listdir(os.path.join(test_im_dir, i))]\n",
        "train_num_cat = len(train_categories)\n",
        "test_num_cat = len(test_categories)\n",
        "train_num_cat"
      ],
      "execution_count": 3,
      "outputs": [
        {
          "output_type": "execute_result",
          "data": {
            "text/plain": [
              "964"
            ]
          },
          "metadata": {
            "tags": []
          },
          "execution_count": 3
        }
      ]
    },
    {
      "cell_type": "code",
      "metadata": {
        "id": "MvcYERohku9G",
        "colab_type": "code",
        "colab": {}
      },
      "source": [
        "def get_batch(batch_size, step_no):\n",
        "  input_list = np.empty((batch_size,2,105,105))\n",
        "  label_list = np.ones((batch_size,1))\n",
        "  for i, cat in enumerate(train_categories[step_no * batch_size: (step_no + 1) * batch_size]):\n",
        "    cat_len = len(cat)\n",
        "    rand_idx = np.random.randint(cat_len)\n",
        "    im_1 = imread(cat[rand_idx]).reshape((1,105,105))\n",
        "    op = 1\n",
        "    if i % 2:\n",
        "      \n",
        "      rand_idx2 = (i + np.random.randint(train_num_cat)) % train_num_cat\n",
        "      im_2 = imread(train_categories[rand_idx2][rand_idx]).reshape((1,105,105))\n",
        "      label_list[i] = 0\n",
        "    else:\n",
        "      rand_idx = (rand_idx + np.random.randint(cat_len)) % cat_len\n",
        "      im_2 = imread(cat[rand_idx]).reshape((1,105,105))\n",
        "    input_list[i] = np.concatenate([im_1, im_2], axis = 0)\n",
        "  return torch.from_numpy(input_list).float().cuda(), torch.from_numpy(label_list).float().cuda()\n",
        "\n",
        "def get_test_batch(batch_size):\n",
        "  input_list = np.empty((batch_size,2,105,105))\n",
        "  label_list = np.ones((batch_size,1))\n",
        "  start = np.random.randint(test_num_cat - batch_size)\n",
        "  for i, cat in enumerate(test_categories[start: start + batch_size]):\n",
        "    cat_len = len(cat)\n",
        "    rand_idx = np.random.randint(cat_len)\n",
        "    im_1 = imread(cat[rand_idx]).reshape((1,105,105))\n",
        "    op = 1\n",
        "    if i % 2:\n",
        "      \n",
        "      rand_idx2 = (i + np.random.randint(test_num_cat)) % test_num_cat\n",
        "      im_2 = imread(test_categories[rand_idx2][rand_idx]).reshape((1,105,105))\n",
        "      label_list[i] = 0\n",
        "    else:\n",
        "      rand_idx = (rand_idx + np.random.randint(cat_len)) % cat_len\n",
        "      im_2 = imread(cat[rand_idx]).reshape((1,105,105))\n",
        "    input_list[i] = np.concatenate([im_1, im_2], axis = 0)\n",
        "  return torch.from_numpy(input_list).float().cuda(), torch.from_numpy(label_list).float().cuda()"
      ],
      "execution_count": 0,
      "outputs": []
    },
    {
      "cell_type": "code",
      "metadata": {
        "id": "iAbdHGmmkyHs",
        "colab_type": "code",
        "colab": {}
      },
      "source": [
        "class SiameseTwin(nn.Module):\n",
        "  def __init__(self):\n",
        "    super(SiameseTwin, self).__init__()\n",
        "    self.conv_1 = nn.Conv2d(1,64,10)\n",
        "    self.bn_1 = nn.BatchNorm2d(64)\n",
        "    self.conv_2 = nn.Conv2d(64,128,7)\n",
        "    self.bn_2 = nn.BatchNorm2d(128)\n",
        "    self.conv_3 = nn.Conv2d(128, 128, 4)\n",
        "    self.bn_3 = nn.BatchNorm2d(128)\n",
        "    self.conv_4 = nn.Conv2d(128, 256, 4)\n",
        "    self.bn_4 = nn.BatchNorm2d(256)\n",
        "    self.fc_6 = nn.Linear(9216,4096)\n",
        "    \n",
        "  def forward(self, x):\n",
        "    x = F.relu(self.conv_1(x))\n",
        "    x = self.bn_1(x)\n",
        "    x = F.max_pool2d(x, 2, 2)\n",
        "    x = F.relu(self.conv_2(x))\n",
        "    x = self.bn_2(x)\n",
        "    x = F.max_pool2d(x, 2, 2 )\n",
        "    x = F.relu(self.conv_3(x))\n",
        "    x = self.bn_3(x)\n",
        "    x = F.max_pool2d(x,2,2)\n",
        "    x = F.relu(self.conv_4(x))\n",
        "    x = self.bn_4(x)\n",
        "    x = x.view(x.shape[0],-1)\n",
        "    x = F.sigmoid(self.fc_6(x))\n",
        "    return x\n",
        "\n",
        "class SiameseNet(nn.Module):\n",
        "  def __init__(self):\n",
        "    super(SiameseNet, self).__init__()\n",
        "    self.siamese_twin = SiameseTwin()\n",
        "    self.fc_layer = nn.Linear(4096, 1)\n",
        "    \n",
        "  def forward(self, twin_ims):\n",
        "    x_1, x_2 = twin_ims[:,0:1,:,:], twin_ims[:,1:2,:,:]\n",
        "    x_1 = self.siamese_twin(x_1)\n",
        "    x_2 = self.siamese_twin(x_2)\n",
        "    x = torch.abs(x_1 - x_2)\n",
        "    x = F.sigmoid(self.fc_layer(x))\n",
        "    return x"
      ],
      "execution_count": 0,
      "outputs": []
    },
    {
      "cell_type": "code",
      "metadata": {
        "id": "QuhjuTiVk1sU",
        "colab_type": "code",
        "outputId": "2ff1fcfa-69f5-48a4-ffe0-c2262fe2faa2",
        "colab": {
          "base_uri": "https://localhost:8080/",
          "height": 34
        }
      },
      "source": [
        "snet = SiameseNet().cuda()\n",
        "optimizer = optim.Adam(snet.parameters(), lr = 0.0001)\n",
        "criterion = nn.BCELoss()\n",
        "epochs = 1000\n",
        "batch_size = 480\n",
        "steps = 2\n",
        "loss_threshold = 0.05\n",
        "def get_n_params(model):\n",
        "    pp=0\n",
        "    for p in list(model.parameters()):\n",
        "        nn_c=1\n",
        "        for s in list(p.size()):\n",
        "            nn_c = nn_c*s\n",
        "        pp += nn_c\n",
        "    return pp\n",
        "get_n_params(snet)"
      ],
      "execution_count": 10,
      "outputs": [
        {
          "output_type": "execute_result",
          "data": {
            "text/plain": [
              "38952897"
            ]
          },
          "metadata": {
            "tags": []
          },
          "execution_count": 10
        }
      ]
    },
    {
      "cell_type": "code",
      "metadata": {
        "id": "TfJgzM35lF0l",
        "colab_type": "code",
        "colab": {}
      },
      "source": [
        "# x = np.random.randn(40,2,105,105)\n",
        "# x = torch.from_numpy(x).float().cuda()\n",
        "# y =torch.from_numpy(np.random.rand(40)).float().cuda()\n",
        "# snet.train()\n",
        "# z = snet(x)\n",
        "# l_oss = criterion(z,y)\n",
        "# l_oss.backward()\n",
        "# optimizer.step()\n",
        "# optimizer.zero_grad()"
      ],
      "execution_count": 0,
      "outputs": []
    },
    {
      "cell_type": "code",
      "metadata": {
        "id": "iH06vt3Mk4Sd",
        "colab_type": "code",
        "outputId": "2d0b62c1-330d-45f0-9df2-7a26ba3a7c68",
        "colab": {
          "base_uri": "https://localhost:8080/",
          "height": 205
        }
      },
      "source": [
        "%%time\n",
        "for epoch in range(epochs):\n",
        "  random.seed(epoch)\n",
        "  random.shuffle(train_categories)\n",
        "  snet.train()\n",
        "  epoch_loss = 0\n",
        "  acc = 0\n",
        "  for step in range(steps):\n",
        "    optimizer.zero_grad()\n",
        "    ip_list, op_list = get_batch(batch_size, step)\n",
        "    op_pred = snet(ip_list)\n",
        "    loss = criterion(op_pred.view(-1), op_list.view(-1))\n",
        "    epoch_loss += loss.item()\n",
        "    loss.backward()\n",
        "    optimizer.step()\n",
        "  ip_test, op_test = get_test_batch(batch_size)\n",
        "  with torch.no_grad():\n",
        "    op_pred = snet(ip_test)\n",
        "    op_pred = (op_pred >= 0.5).float()\n",
        "    acc = (op_pred == op_test).sum().item() * 100 / batch_size\n",
        "  epoch_avg_loss = epoch_loss / steps\n",
        "  print('Epoch - {} , loss - {:.6f}, acc - {:.6f}'.format(epoch + 1 - 700, epoch_avg_loss, acc))\n",
        "  if (acc >= acc_threshold and epoch_avg_loss < loss_threshold):\n",
        "    break"
      ],
      "execution_count": 31,
      "outputs": [
        {
          "output_type": "stream",
          "text": [
            "/usr/local/lib/python3.6/dist-packages/torch/nn/functional.py:1386: UserWarning: nn.functional.sigmoid is deprecated. Use torch.sigmoid instead.\n",
            "  warnings.warn(\"nn.functional.sigmoid is deprecated. Use torch.sigmoid instead.\")\n"
          ],
          "name": "stderr"
        },
        {
          "output_type": "stream",
          "text": [
            "Epoch - 401 , loss - 0.053400, acc - 87.916667\n",
            "Epoch - 402 , loss - 0.041312, acc - 89.375000\n",
            "Epoch - 403 , loss - 0.047595, acc - 86.250000\n",
            "Epoch - 404 , loss - 0.051490, acc - 90.000000\n",
            "Epoch - 405 , loss - 0.038701, acc - 87.291667\n",
            "Epoch - 406 , loss - 0.039975, acc - 92.708333\n",
            "CPU times: user 11.2 s, sys: 6.19 s, total: 17.4 s\n",
            "Wall time: 17.5 s\n"
          ],
          "name": "stdout"
        }
      ]
    },
    {
      "cell_type": "code",
      "metadata": {
        "id": "DaMcq6YYeWkJ",
        "colab_type": "code",
        "colab": {
          "base_uri": "https://localhost:8080/",
          "height": 104
        },
        "outputId": "ab6de0dd-9a25-470f-9bb9-4ffcc27bcf80"
      },
      "source": [
        "torch.save(snet,os.path.join(drive_dir,'siamese_network.pt'))"
      ],
      "execution_count": 43,
      "outputs": [
        {
          "output_type": "stream",
          "text": [
            "/usr/local/lib/python3.6/dist-packages/torch/serialization.py:256: UserWarning: Couldn't retrieve source code for container of type SiameseNet. It won't be checked for correctness upon loading.\n",
            "  \"type \" + obj.__name__ + \". It won't be checked \"\n",
            "/usr/local/lib/python3.6/dist-packages/torch/serialization.py:256: UserWarning: Couldn't retrieve source code for container of type SiameseTwin. It won't be checked for correctness upon loading.\n",
            "  \"type \" + obj.__name__ + \". It won't be checked \"\n"
          ],
          "name": "stderr"
        }
      ]
    },
    {
      "cell_type": "code",
      "metadata": {
        "id": "waS7JvEreYEq",
        "colab_type": "code",
        "colab": {
          "base_uri": "https://localhost:8080/",
          "height": 104
        },
        "outputId": "be4160a8-9448-4a7c-928b-a98986a7a312"
      },
      "source": [
        "torch.save(snet, 'network.pt')"
      ],
      "execution_count": 44,
      "outputs": [
        {
          "output_type": "stream",
          "text": [
            "/usr/local/lib/python3.6/dist-packages/torch/serialization.py:256: UserWarning: Couldn't retrieve source code for container of type SiameseNet. It won't be checked for correctness upon loading.\n",
            "  \"type \" + obj.__name__ + \". It won't be checked \"\n",
            "/usr/local/lib/python3.6/dist-packages/torch/serialization.py:256: UserWarning: Couldn't retrieve source code for container of type SiameseTwin. It won't be checked for correctness upon loading.\n",
            "  \"type \" + obj.__name__ + \". It won't be checked \"\n"
          ],
          "name": "stderr"
        }
      ]
    },
    {
      "cell_type": "code",
      "metadata": {
        "id": "qYmS9B5QlgaP",
        "colab_type": "code",
        "colab": {}
      },
      "source": [
        ""
      ],
      "execution_count": 0,
      "outputs": []
    }
  ]
}