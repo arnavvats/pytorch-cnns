{
  "nbformat": 4,
  "nbformat_minor": 0,
  "metadata": {
    "colab": {
      "name": "neural_style_transfer",
      "version": "0.3.2",
      "provenance": [],
      "include_colab_link": true
    },
    "kernelspec": {
      "name": "python3",
      "display_name": "Python 3"
    },
    "accelerator": "GPU"
  },
  "cells": [
    {
      "cell_type": "markdown",
      "metadata": {
        "id": "view-in-github",
        "colab_type": "text"
      },
      "source": [
        "<a href=\"https://colab.research.google.com/github/arnavvats/pytorch-cnns/blob/master/neural_style_transfer.ipynb\" target=\"_parent\"><img src=\"https://colab.research.google.com/assets/colab-badge.svg\" alt=\"Open In Colab\"/></a>"
      ]
    },
    {
      "cell_type": "code",
      "metadata": {
        "id": "dEwqo3tY9yYJ",
        "colab_type": "code",
        "colab": {}
      },
      "source": [
        "import os\n",
        "os.environ['KAGGLE_USERNAME'] = 'kaggle-username-here'\n",
        "os.environ['KAGGLE_KEY'] = 'your-key-here'\n",
        "# from google.colab import drive\n",
        "# drive.mount('/drive')"
      ],
      "execution_count": 0,
      "outputs": []
    },
    {
      "cell_type": "code",
      "metadata": {
        "id": "9BN_MBQ2-MSU",
        "colab_type": "code",
        "colab": {
          "base_uri": "https://localhost:8080/",
          "height": 34
        },
        "outputId": "65da51da-a261-460a-a2e4-90ffa9c34357"
      },
      "source": [
        "!kaggle datasets download ikarus777/best-artworks-of-all-time"
      ],
      "execution_count": 6,
      "outputs": [
        {
          "output_type": "stream",
          "text": [
            "404 - Not Found\n"
          ],
          "name": "stdout"
        }
      ]
    },
    {
      "cell_type": "code",
      "metadata": {
        "id": "2phiMLSPBQ8u",
        "colab_type": "code",
        "colab": {}
      },
      "source": [
        "kaggle datasets download -d duttadebadri/image-classification"
      ],
      "execution_count": 0,
      "outputs": []
    }
  ]
}